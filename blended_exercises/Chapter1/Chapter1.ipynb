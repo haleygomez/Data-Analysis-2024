{
 "cells": [
  {
   "cell_type": "markdown",
   "metadata": {},
   "source": [
    "# Introducing Python\n",
    "\n",
    "To enable us to remote work and learn the necessary tools for Data Analysis (and scientific research in general), we will be using two modern computing concepts: **Interactive coding** (with Jupyter notebooks) and **cloud computing (with Google Colab)**.\n",
    "\n",
    "This notebook will help you get familiar with using Python in the Jupyter Notebook environment - this is important not only for practice required for the assessements, but also to go through some of the basic concepts of the course. Some core concepts of Data Analysis will only be taught via the Jupyter notebooks and live sessions (and of course the notes).\n",
    "\n",
    "Jupyter notebooks allow us to write text in cells using the **Markdown** format.\n",
    "\n",
    "It also allows us to write code in cells, we will use **Python** in this course.\n",
    "\n",
    "Please ensure you have watched the Chapter 0 video and have set up Google Colab and read through the [Chapter 0 jupyter notebook](https://github.com/haleygomez/Data-Analysis-2024/blob/master/blended_exercises/Chapter1/Chapter0.ipynb).\n",
    "\n",
    "So how do we use Python to work with data? Useful things including reading in datafiles from experiments or telescopes, plotting data, plotting error bars, calculating some useful statistics, and perhaps probabilities, and fit models (lines/curves) to the data.  Python is really useful because we can *import* packages that already have built in tools to make publication quality plots, or estimate the mean or median and so on. These packages include  Numerical Python `numpy` and Scientific Python `SciPy` as well as plotting packages such as `Matplotlib`.   \n",
    "\n",
    "This introduction and the weekly guides are to support you to carry out scientific analysis using data. You do not need to be an experienced programmer, since there are some easy hints and tips that will allow you to do things in a simple way. Eg knowing that you can write an equation in python in the following way `y = x**2` and not `y=x^2`."
   ]
  },
  {
   "cell_type": "markdown",
   "metadata": {},
   "source": [
    "## You will learn the following things this week\n",
    "\n",
    "- How to use Jupyter (Colaboratory) notebooks\n",
    "- How to set up your Google Colaboratory \n",
    "- How to access and submit Jupyter Notebook assignments\n",
    "- How to write a Python program and run it"
   ]
  },
  {
   "cell_type": "markdown",
   "metadata": {},
   "source": [
    "***"
   ]
  },
  {
   "cell_type": "markdown",
   "metadata": {},
   "source": [
    "## How to get started - Python\n",
    "\n",
    "If Python is new to you, we recommend getting started with the following sites \n",
    "- [The Python Tutorial](https://docs.python.org/3/tutorial/)\n",
    "- [problem-solving with python](https://problemsolvingwithpython.com/)\n",
    "- [short guide to python/data analysis](https://www.authorea.com/users/18589/articles/304710-a-short-guide-to-using-python-for-data-analysis-in-experimental-physics) \n",
    "- and an online book from one of the best educators in python: [Jake VanderPlas](https://jakevdp.github.io/PythonDataScienceHandbook/).\n",
    "\n",
    "Also this notebook will help you get to grips with the basics. Any questions, please do raise them at the weekly live sessions or at office hours."
   ]
  },
  {
   "cell_type": "markdown",
   "metadata": {},
   "source": [
    "## How to get started -  Jupyter Notebooks\n"
   ]
  },
  {
   "cell_type": "markdown",
   "metadata": {},
   "source": [
    "You are already using a Jupyter notebook if you are reading this! They are an excellent way to interactively write and execute codes in cells, whilst you can plot your data, discuss your results, fit a model and write the equations and interpretation all in one document. No need to cut and paste code from files into word documents.\n",
    "\n",
    "Before we continue - please make sure you have read and followed the instructions in **Chapter0.ipynb**.\n",
    "\n",
    "Jupyter notebook files end in .ipynb. The notebook contains cells. A cell is a place to either display text or to write some code to be executed by the notebook’s kernel. A kernel is the engine that runs the code in the notebook."
   ]
  },
  {
   "cell_type": "markdown",
   "metadata": {},
   "source": [
    "## Using notebooks to do some analysis\n",
    "\n",
    "In a Jupyter notebook you can insert a new cell by clicking on the + cell box at the top of the notebook (Anaconda: Cell > insert cell). This time we’ll keep it in the code format and do some basic maths in python.\n",
    "\n",
    "If you entered the following text to a new code cell:\n",
    "\n",
    "`x=5\n",
    "y = x**2.\n",
    "print(y)`"
   ]
  },
  {
   "cell_type": "markdown",
   "metadata": {},
   "source": [
    "Your cell will look like this:"
   ]
  },
  {
   "cell_type": "code",
   "execution_count": 1,
   "metadata": {},
   "outputs": [
    {
     "name": "stdout",
     "output_type": "stream",
     "text": [
      "25.0\n"
     ]
    }
   ],
   "source": [
    "x = 5\n",
    "y = x**2.\n",
    "\n",
    "print(y)"
   ]
  },
  {
   "cell_type": "markdown",
   "metadata": {},
   "source": [
    "And we can see that the cell has output the answer y.  But we only get the output answer by compiling the code.\n",
    "\n",
    "To do this for a single cell, select it with the mouse and click on the ▶ which appears in Colab. Or you can select the Runtime dropdown menu and \"Run the focused cell\" (Anaconda: ▶Run). To stop a\n",
    "cell from compiling/running we can go to manage sessions and stop some from running (Anaconda: click the ◼︎ button). This is useful if we have complicated code or lots of data being plotted, as it can be very slow at times.\n",
    "\n",
    "Each cell remembers what is above it, this is both good and bad as you only need to\n",
    "define things/import packages once, but you will need to be careful when writing code with similar looking parameters in one notebook!"
   ]
  },
  {
   "cell_type": "markdown",
   "metadata": {},
   "source": [
    "***"
   ]
  },
  {
   "cell_type": "markdown",
   "metadata": {},
   "source": [
    "## Getting started with Markdown/Text"
   ]
  },
  {
   "cell_type": "markdown",
   "metadata": {},
   "source": [
    "Text boxes in Jupyter Notebooks use a language called Markdown - this is a really simple way to write text. We can use it to describe our methods, state equations that we're using and to write our results and interpretation underneath our code.   So in that sense we wish to use it as a word processor - ie with titles, subheadings, text, formatted equations etc. \n",
    "\n",
    "We can use the following in a Markdown cell to bold text by writing \\__quantum__ or \\**quantum\\** \n",
    "\n",
    "to make __quantum__ or **quantum**\n",
    "\n",
    "Titles and section headings use # in markdown cells.\n",
    "\n",
    "You can write equations in markdown using $$.\n",
    "\n",
    "Here are a few examples to get you started with Markdown."
   ]
  },
  {
   "cell_type": "markdown",
   "metadata": {},
   "source": [
    "### <font color=#4290C4>Example</font>\n",
    "\n",
    "How would we write the table below in Markdown?\n",
    "    \n",
    "\n",
    "\\|a \\|b \\| c\\| <br>\n",
    "\\|--\\|--\\|--\\| <br>\n",
    "\\|1\\|2\\|3\\| <br>  \n",
    "</div>"
   ]
  },
  {
   "cell_type": "markdown",
   "metadata": {},
   "source": [
    "### Solution:\n",
    "\n",
    "Click below to see the solution."
   ]
  },
  {
   "cell_type": "markdown",
   "metadata": {},
   "source": [
    "|a |b | c|\n",
    "|--|--|--|\n",
    "|1|2|3|"
   ]
  },
  {
   "cell_type": "markdown",
   "metadata": {},
   "source": [
    "### <font color=#4290C4>Example</font>\n",
    "\n",
    "How would we write the following equations in markdown so they are formatted correctly?\n",
    "\n",
    "- alpha = 10^2\n",
    "- y = x^2+4\n",
    "- y = asin(bx)+c\n",
    "- y = x/x+3 * (z/(z^2-1))"
   ]
  },
  {
   "cell_type": "markdown",
   "metadata": {},
   "source": [
    "### Solution\n",
    "\n",
    "Click below to see the solution."
   ]
  },
  {
   "cell_type": "markdown",
   "metadata": {},
   "source": [
    " `$\\alpha = 10^{2}$` produces $\\alpha = 10^{2}$.\n",
    "\n",
    "`$y=x^2+4$` produces $y=x^2+4$.\n",
    "\n",
    "`$y = a+sin(bx)+c$` produces $ y =a + sin(bx)+c$\n",
    "\n",
    "`$y = \\dfrac{x}{x+3}+\\left(\\dfrac{z}{z^2-1}\\right)$` produces $y = \\dfrac{x}{x+3} + \\left(\\dfrac{z}{\\left(z^2-1\\right)}\\right)$\n"
   ]
  },
  {
   "cell_type": "markdown",
   "metadata": {},
   "source": [
    "### Markdown Lists\n",
    "\n",
    "We can write **lists** in Markdown in the following way."
   ]
  },
  {
   "cell_type": "markdown",
   "metadata": {},
   "source": [
    "Sometimes we want to include lists.\n",
    "* Which can be indented.\n",
    "\n",
    "Lists can also be numbered.\n",
    "\n",
    "1. Item a\n",
    "2. Item b\n",
    "\n",
    "Or:\n",
    " \n",
    "* Item 1\n",
    "* Item 2\n",
    "\n",
    "One can also use \"-\" to make a bullet point list."
   ]
  },
  {
   "cell_type": "markdown",
   "metadata": {},
   "source": [
    "### Tips\n",
    "\n",
    "- You can attach image files (jpg, png) directly to a notebook in Markdown cells by dragging and dropping it into the cell.\n",
    "\n",
    "- Paragraphs must be separated by an empty line. \n",
    "\n",
    "- For additional markdown tips, see this [blog](https://www.dataquest.io/blog/jupyter-notebook-tutorial/) and this [blog](https://guides.github.com/features/mastering-markdown/). "
   ]
  },
  {
   "cell_type": "markdown",
   "metadata": {},
   "source": [
    "***"
   ]
  },
  {
   "cell_type": "markdown",
   "metadata": {},
   "source": [
    "# Getting started with Python"
   ]
  },
  {
   "cell_type": "markdown",
   "metadata": {},
   "source": [
    "## Importing packages\n",
    "\n",
    "In general, it is good practice to start each notebook with a cell that explains what the notebook is for and a cell that imports useful python libraries e.g."
   ]
  },
  {
   "cell_type": "code",
   "execution_count": 2,
   "metadata": {},
   "outputs": [],
   "source": [
    "import numpy as np\n",
    "import scipy as sp\n",
    "import pylab as plt\n",
    "%matplotlib inline"
   ]
  },
  {
   "cell_type": "markdown",
   "metadata": {},
   "source": [
    "What does the above cell do? \n",
    "\n",
    "`numpy` is a package consisting of lots of numerical tools. \n",
    "`scipy` is a package consisting of lots of useful scientific tools.\n",
    "`pylab` is a  package for scientific plotting.\n",
    "`%matplotlib inline` is a 'magic command' used when running Python within a Jupyter notebook. It allows the display of data plots within the notebook. \n",
    "\n",
    "Other useful packages to be used in this course include\n",
    "\n",
    "`import scipy.stats as st`\n",
    "\n",
    "`import pandas`\n",
    "\n",
    "and `import math as m`\n",
    "\n",
    "The `math` package includes tools like trig functions eg $sine$ etc.  Once we've imported the packages, we can use tools inside them by writing `mean = np.mean(x)` to get the mean of a set of values $x$ calling `numpy` to do the work for us. Similarly we can use `y = np.sqrt(x)` to get the square root of $x$, `y=np.log(x)` for log (base 10) of $x$ and `np.pi` to call $\\pi$."
   ]
  },
  {
   "cell_type": "markdown",
   "metadata": {},
   "source": [
    "***\n",
    "\n",
    "## Using Python as a calculator"
   ]
  },
  {
   "cell_type": "markdown",
   "metadata": {},
   "source": [
    "You can use Python as a calculator. Below are some examples."
   ]
  },
  {
   "cell_type": "code",
   "execution_count": 3,
   "metadata": {},
   "outputs": [
    {
     "data": {
      "text/plain": [
       "5.6"
      ]
     },
     "execution_count": 3,
     "metadata": {},
     "output_type": "execute_result"
    }
   ],
   "source": [
    "(1+2+3+4+5+6+7)/5"
   ]
  },
  {
   "cell_type": "code",
   "execution_count": 4,
   "metadata": {},
   "outputs": [
    {
     "data": {
      "text/plain": [
       "81.0"
      ]
     },
     "execution_count": 4,
     "metadata": {},
     "output_type": "execute_result"
    }
   ],
   "source": [
    "9.**2"
   ]
  },
  {
   "cell_type": "code",
   "execution_count": 5,
   "metadata": {},
   "outputs": [
    {
     "data": {
      "text/plain": [
       "199.0"
      ]
     },
     "execution_count": 5,
     "metadata": {},
     "output_type": "execute_result"
    }
   ],
   "source": [
    "(3./1.) + (4+5+3+2)**2."
   ]
  },
  {
   "cell_type": "markdown",
   "metadata": {},
   "source": [
    "Sometimes Python spits out a zero when it is not expected, or a number with no decimal places (1).  This is likely because you have typed 7/4 instead of 7./4. or 3/1 instead of 3./3 and Python has then rounded down to the nearest integer. To be safe always use the decimal point to let Python know it is a floating point value and not an integer.  "
   ]
  },
  {
   "cell_type": "markdown",
   "metadata": {},
   "source": [
    "### Tips\n",
    "\n",
    "- If something seems slightly \"off\" with your numbers, then go back and check the positioning of your brackets - often a misaligned bracket in an equation is responsible for all sorts of mishap.\n",
    "\n",
    "- Note that you can also put *comments in the code cells* by writing what your line of code is doing using a #.  This is really good practice so that when you return to your code later, you can remind yourself why that line of code is there."
   ]
  },
  {
   "cell_type": "markdown",
   "metadata": {},
   "source": [
    "***"
   ]
  },
  {
   "cell_type": "markdown",
   "metadata": {},
   "source": [
    "## Printing out results and text"
   ]
  },
  {
   "cell_type": "markdown",
   "metadata": {},
   "source": [
    "You can get Python to do some calculations and then print results out (or even print out text if you'd like). We can do this by using `print(\"some text here\")`.  \n",
    "\n",
    "To print out a result $y$ and some explanation text, we can write `print(\"some text here\",y)`.\n",
    "\n",
    "Note that we can use words in Python code by defining them as strings. These are made clear by using the `\"\"` or '`''`. You can use strings and do manipulations on them - see examples later on in the notebook."
   ]
  },
  {
   "cell_type": "markdown",
   "metadata": {},
   "source": [
    "### <font color=#4290C4>Example</font>\n",
    "\n",
    "Make a cell print out Hello World."
   ]
  },
  {
   "cell_type": "markdown",
   "metadata": {},
   "source": [
    "### Solution\n",
    "\n",
    "Click below for the Solution."
   ]
  },
  {
   "cell_type": "code",
   "execution_count": 6,
   "metadata": {},
   "outputs": [
    {
     "name": "stdout",
     "output_type": "stream",
     "text": [
      "Hello World\n"
     ]
    }
   ],
   "source": [
    "print('Hello World')"
   ]
  },
  {
   "cell_type": "markdown",
   "metadata": {},
   "source": [
    "### <font color=#4290C4>Example</font>\n",
    "\n",
    "You've found a model $y(t) = \\dfrac{1}{2}gt^2+v_0t+y_0$ explains the experiment you've been working on in the lab where you've been searching for an equation that describes the position of a falling body $y$ as a function of time $t$ in free-fall. $g$ is the acceleration due to gravity and $v_0$ and $y_0$ are the initial conditions.  \n",
    "    \n",
    "What is the value of $y(t)$ for $t = 2.56$s if $v_0 =1.26$m/s and $y_0 = 1.35$m?"
   ]
  },
  {
   "cell_type": "markdown",
   "metadata": {},
   "source": [
    "### Solution\n",
    "\n",
    "Click below for the Solution."
   ]
  },
  {
   "cell_type": "code",
   "execution_count": 7,
   "metadata": {},
   "outputs": [
    {
     "name": "stdout",
     "output_type": "stream",
     "text": [
      "36.721008000000005\n"
     ]
    }
   ],
   "source": [
    "t=2.56\n",
    "v_0 = 1.26\n",
    "y_0 = 1.35\n",
    "g = 9.81\n",
    "\n",
    "y = 0.5*g*t**2+v_0*t+y_0\n",
    "print(y)"
   ]
  },
  {
   "cell_type": "markdown",
   "metadata": {},
   "source": [
    "To explain our result to the reader of the notebook, we can provide a little more information in our answers:"
   ]
  },
  {
   "cell_type": "code",
   "execution_count": 8,
   "metadata": {},
   "outputs": [
    {
     "name": "stdout",
     "output_type": "stream",
     "text": [
      "the value of y is 36.721008000000005\n"
     ]
    }
   ],
   "source": [
    "print(\"the value of y is\",y)"
   ]
  },
  {
   "cell_type": "markdown",
   "metadata": {},
   "source": [
    "### Formatting\n",
    "\n",
    "Note that I didn't have to do all of the same numbers and equations again, because Jupyter notebooks *remembers all of the definitions and everything in the code above it* if it is compiled.\n",
    "\n",
    "Now we want to be even more scientific and include units and formatting in our result, since the large amount of the significant figures above are not realistic (we very rarely know parameters to this level of precision).\n",
    "\n",
    "This brings us to the point of **formatting numbers**.  There are many ways to do this, we can format numbers using Python's `str.format()`. To do this, we can use \n",
    "\n",
    "`print(\"FORMAT\".format(NUMBER))` \n",
    "\n",
    "where `FORMAT` is what we want our output to look like. Eg 2 significant figures is `\"{:.2f}\"` or `\"{:.0f}\"`. `NUMBER` is either a number which needs formatting or your result (in the case above we would replace this with y)."
   ]
  },
  {
   "cell_type": "code",
   "execution_count": 9,
   "metadata": {},
   "outputs": [
    {
     "name": "stdout",
     "output_type": "stream",
     "text": [
      "This is a bad example: the value of y is 36.721008000000005\n",
      "\n",
      "This is a formatted example: 36.72\n",
      "\n",
      "Now this is a great example:\n",
      "The position of a falling body y at time t=2.56s in free-fall is 36.72 m.\n"
     ]
    }
   ],
   "source": [
    "print('This is a bad example: the value of y is',y) \n",
    "print()\n",
    "\n",
    "print(\"This is a formatted example:\",\"{:.2f}\".format(y))\n",
    "print()\n",
    "\n",
    "print('Now this is a great example:')\n",
    "print('The position of a falling body y at time t=2.56s in free-fall is {:.2f} m.'.format(y)) # makes it 3 sig figs after decimal pt"
   ]
  },
  {
   "cell_type": "markdown",
   "metadata": {},
   "source": [
    "***\n",
    "\n",
    "## Lists"
   ]
  },
  {
   "cell_type": "markdown",
   "metadata": {},
   "source": [
    "You can create a list of objects in Python. This is handy because we can do all sorts of cool things with them, such as adding two separate lists together, pulling out values from the list.   *The elements of a list are numbered from zero.* So if you have a list of 5 values, the elements in that list are numbered 0, 1, 2, 3 and 4.\n",
    "\n",
    "If we take a list and add it it to another list, it doesn't add each item together, but simply adds the two lists to make a bigger list.  Similarly, we can multiply a list, but this doesn't multiply each item, rather the list itself."
   ]
  },
  {
   "cell_type": "markdown",
   "metadata": {},
   "source": [
    "### <font color=#4290C4>Example</font>\n",
    "\n",
    "$a$ = [1,2,3,4,5] and $b$ = [6,7,8,9,10] are lists. \n",
    "\n",
    "- What is the list $c = a+b$ in python code?\n",
    "- What is the list $c = 3a$ in python code?\n",
    "- What is the 1st element of the list $c$?\n",
    "- What is the 5th element?\n",
    "- What is the number of data points in $c$?"
   ]
  },
  {
   "cell_type": "markdown",
   "metadata": {},
   "source": [
    "### Solution\n",
    "\n",
    "Click below for the solution."
   ]
  },
  {
   "cell_type": "code",
   "execution_count": 10,
   "metadata": {},
   "outputs": [
    {
     "name": "stdout",
     "output_type": "stream",
     "text": [
      "a+b where a and b are lists =  [1, 2, 3, 4, 5, 6, 7, 8, 9, 10]\n",
      "3a where a is a list = [1, 2, 3, 4, 5, 1, 2, 3, 4, 5, 1, 2, 3, 4, 5]\n",
      "\n",
      "first element in c is 1\n",
      "fifth element in c is 5\n",
      "the number of data points in c is 10\n"
     ]
    }
   ],
   "source": [
    "a = [1,2,3,4,5]\n",
    "b = [6,7,8,9,10]\n",
    "\n",
    "c = a+b\n",
    "print('a+b where a and b are lists = ',c)\n",
    "\n",
    "d = 3*a\n",
    "print('3a where a is a list =',d)\n",
    "print()\n",
    "\n",
    "print('first element in c is',c[0])\n",
    "print('fifth element in c is',c[4])\n",
    "print('the number of data points in c is',len(c))"
   ]
  },
  {
   "cell_type": "markdown",
   "metadata": {},
   "source": [
    "***\n",
    "\n",
    "## Iterating over values - for loops"
   ]
  },
  {
   "cell_type": "markdown",
   "metadata": {},
   "source": [
    "Python can iterate over the items in a list. For loops great for repeating something a fixed number of times. Python has a `range` function so that `range(10)` will give a set of 10 integers from 0 to 9.  `range(1,5)` will give a set of integers from 1 to 5, and `range(6,10,2)` will give a range of 6-10 in steps of 2.\n",
    "\n",
    "The for loop needs a colon (:) and everything after that (related to the for loop) must be indented.\n",
    "\n",
    "We can use for loops to do lots of great things, but it is very important you know how they work - make sure you print out your values to check it is doing what you want it to."
   ]
  },
  {
   "cell_type": "markdown",
   "metadata": {},
   "source": [
    "### <font color=#4290C4>Example</font>\n",
    "\n",
    "Write a for loop to print out the index of the loop and 2 times the index of the loop."
   ]
  },
  {
   "cell_type": "markdown",
   "metadata": {},
   "source": [
    "### Solution\n",
    "\n",
    "Click below to see the solution."
   ]
  },
  {
   "cell_type": "code",
   "execution_count": 11,
   "metadata": {},
   "outputs": [
    {
     "name": "stdout",
     "output_type": "stream",
     "text": [
      "k in loop:  1 2k in loop: 2\n",
      "k in loop:  2 2k in loop: 4\n",
      "k in loop:  3 2k in loop: 6\n",
      "k in loop:  4 2k in loop: 8\n",
      "k in loop:  5 2k in loop: 10\n",
      "k in loop:  6 2k in loop: 12\n",
      "k in loop:  7 2k in loop: 14\n",
      "k in loop:  8 2k in loop: 16\n",
      "k in loop:  9 2k in loop: 18\n"
     ]
    }
   ],
   "source": [
    "for k in range(1, 10):\n",
    "    print('k in loop: ',k,'2k in loop:',(2*k))"
   ]
  },
  {
   "cell_type": "markdown",
   "metadata": {},
   "source": [
    "### <font color=#4290C4>Example</font>\n",
    "\n",
    "Write a for loop to print out \"I have a pet....\" for all of the animals in the list animals = [\"lemur\",\"panda\",\"shark\",\"bat\"].  \n",
    "    \n",
    "Write another loop to print out all the letters in \"sloth\"."
   ]
  },
  {
   "cell_type": "markdown",
   "metadata": {},
   "source": [
    "### Solution\n",
    "\n",
    "Click below to see the solution."
   ]
  },
  {
   "cell_type": "code",
   "execution_count": 12,
   "metadata": {},
   "outputs": [
    {
     "name": "stdout",
     "output_type": "stream",
     "text": [
      "I have a pet lemur\n",
      "I have a pet panda\n",
      "I have a pet shark\n",
      "I have a pet bat\n",
      "\n",
      "s\n",
      "l\n",
      "o\n",
      "t\n",
      "h\n"
     ]
    }
   ],
   "source": [
    "animals=[\"lemur\",\"panda\",\"shark\",\"bat\"]\n",
    "\n",
    "for item in animals:\n",
    "    print(\"I have a pet \" + item)\n",
    "\n",
    "print()\n",
    "\n",
    "for item in \"sloth\":\n",
    "    print(item)\n"
   ]
  },
  {
   "cell_type": "markdown",
   "metadata": {},
   "source": [
    "### <font color=#4290C4>Example</font>\n",
    "\n",
    "Calculate the position of a falling body in free-fall from $t=0$s to 1000s in steps of 50s. "
   ]
  },
  {
   "cell_type": "markdown",
   "metadata": {},
   "source": [
    "### Solution\n",
    "\n",
    "Click below to see the solution."
   ]
  },
  {
   "cell_type": "code",
   "execution_count": 13,
   "metadata": {},
   "outputs": [
    {
     "name": "stdout",
     "output_type": "stream",
     "text": [
      "1.35\n",
      "12326.85\n",
      "49177.35\n",
      "110552.85\n",
      "196453.35\n",
      "306878.85\n",
      "441829.35\n",
      "601304.85\n",
      "785305.35\n",
      "993830.85\n",
      "1226881.35\n",
      "1484456.85\n",
      "1766557.35\n",
      "2073182.85\n",
      "2404333.35\n",
      "2760008.85\n",
      "3140209.35\n",
      "3544934.85\n",
      "3974185.35\n",
      "4427960.85\n"
     ]
    }
   ],
   "source": [
    "t=range(0,1000,50) \n",
    "# set up an array of times which starts at t=0, ends at t =\n",
    "# 1000s in steps of 50s\n",
    "\n",
    "# now call the equation for each time by using the for loop:\n",
    "for i in range(0,len(t)):   # each value of t is called as t[i] where i is an index\n",
    "                            # from t[start] to t[end]\n",
    "    y = 0.5*g*t[i]**2+v_0*t[i]+y_0\n",
    "    print(y)"
   ]
  },
  {
   "cell_type": "markdown",
   "metadata": {},
   "source": [
    "If instead we used the following code, we would only get the last value of $y$."
   ]
  },
  {
   "cell_type": "code",
   "execution_count": 14,
   "metadata": {},
   "outputs": [
    {
     "name": "stdout",
     "output_type": "stream",
     "text": [
      "4427960.85\n",
      "so we see we only get one value of y if we print outside the for loop\n",
      "\n",
      "Note: the correct way to write this would be something like:\n",
      "The position of body in free fall at t=1000s is 4.43e+06 m\n"
     ]
    }
   ],
   "source": [
    "# now call the equation for each time by using a for loop:\n",
    "for i in range(0,len(t)):   \n",
    "    y = 0.5*g*t[i]**2+v_0*t[i]+y_0\n",
    "\n",
    "print(y)\n",
    "print('so we see we only get one value of y if we print outside the for loop')\n",
    "\n",
    "print()\n",
    "# though we should use the following for our print statement:\n",
    "print('Note: the correct way to write this would be something like:')\n",
    "print('The position of body in free fall at t=1000s is {:.2e} m'.format(y)) "
   ]
  },
  {
   "cell_type": "markdown",
   "metadata": {},
   "source": [
    "### Append and factorising code\n",
    "\n",
    "One way to get around this issue (where you can only get the values of $y$ for all $t$ inside the for loop and not outside) is to use Python `append` function.\n",
    "\n",
    "A much simpler alternative way of calculating $y$ for every value of $t$ without having to do the for loop iteration over each $t$ value is shown below (in fact we can do it in one line). "
   ]
  },
  {
   "cell_type": "code",
   "execution_count": 15,
   "metadata": {},
   "outputs": [
    {
     "name": "stdout",
     "output_type": "stream",
     "text": [
      "using a loop to calculate y for each value of t and then append all values to a list gives\n",
      "[1.35, 12326.85, 49177.35, 110552.85, 196453.35, 306878.85, 441829.35, 601304.85, 785305.35, 993830.85, 1226881.35, 1484456.85, 1766557.35, 2073182.85, 2404333.35, 2760008.85, 3140209.35, 3544934.85, 3974185.35, 4427960.85]\n",
      "\n",
      "or we can write the following code: y = [0.5*g*x**2+v_0*x+y_0 for x in t] to give:\n",
      "\n",
      "[1.35, 12326.85, 49177.35, 110552.85, 196453.35, 306878.85, 441829.35, 601304.85, 785305.35, 993830.85, 1226881.35, 1484456.85, 1766557.35, 2073182.85, 2404333.35, 2760008.85, 3140209.35, 3544934.85, 3974185.35, 4427960.85]\n"
     ]
    }
   ],
   "source": [
    "y = [] # tell the code that y will have more than one value\n",
    "\n",
    "for i in range(0,len(t)):   \n",
    "    y.append(0.5*g*t[i]**2+v_0*t[i]+y_0)\n",
    "\n",
    "print('using a loop to calculate y for each value of t and then append all values to a list gives')\n",
    "print(y)\n",
    "\n",
    "print()\n",
    "print(r'or we can write the following code: y = [0.5*g*x**2+v_0*x+y_0 for x in t] to give:')\n",
    "# the little r in the line above tells python you want to print out exactly what you have written!\n",
    "print()\n",
    "\n",
    "y2 = [0.5*g*x**2+v_0*x+y_0 for x in t]\n",
    "print(y2)"
   ]
  },
  {
   "cell_type": "markdown",
   "metadata": {},
   "source": [
    "*Yay - we have basically saved all the values of y into one list.*"
   ]
  },
  {
   "attachments": {
    "Colab_screenshot_typeerror.png": {
     "image/png": "[encoded data removed]"
    }
   },
   "cell_type": "markdown",
   "metadata": {},
   "source": [
    "![Colab_screenshot_typeerror.png](attachment:Colab_screenshot_typeerror.png)"
   ]
  },
  {
   "cell_type": "markdown",
   "metadata": {},
   "source": [
    "Obviously this has not worked. This is because it's a list and we can't multiply a list this way (we'd have to do another for loop). To find out if you have a list or an array you can use the `type` command.  We will return to `numpy` arrays later.\n",
    "\n",
    "We can convert our Python list into a Python array using `numpy` and then do mathematical calculations with our data - let's say $y^2$ for example by using the following code\n",
    "\n",
    "`y_arr = np.array(y)\n",
    "y_sq = y_arr*y_arr\n",
    "print(y_sq)`"
   ]
  },
  {
   "cell_type": "markdown",
   "metadata": {},
   "source": [
    "### <font color=#4290C4>Example</font>\n",
    "\n",
    "Find out the types of the following `a=1`, `b=1.0`, and `c=\"1.0\"`. "
   ]
  },
  {
   "cell_type": "markdown",
   "metadata": {},
   "source": [
    "### Solution\n",
    "\n",
    "Click below to see the solution."
   ]
  },
  {
   "cell_type": "code",
   "execution_count": 16,
   "metadata": {},
   "outputs": [
    {
     "name": "stdout",
     "output_type": "stream",
     "text": [
      "<class 'int'>\n",
      "<class 'float'>\n",
      "<class 'str'>\n"
     ]
    }
   ],
   "source": [
    "a=1; b=1.0; c='1.0' \n",
    "\n",
    "print(type(a))\n",
    "print(type(b))\n",
    "print(type(c))"
   ]
  },
  {
   "cell_type": "markdown",
   "metadata": {},
   "source": [
    "So what is the type of our data $y (t)$?"
   ]
  },
  {
   "cell_type": "code",
   "execution_count": 17,
   "metadata": {},
   "outputs": [
    {
     "name": "stdout",
     "output_type": "stream",
     "text": [
      "<class 'list'>\n"
     ]
    }
   ],
   "source": [
    "print(type(y))"
   ]
  },
  {
   "cell_type": "markdown",
   "metadata": {},
   "source": [
    "It's a list!"
   ]
  },
  {
   "cell_type": "markdown",
   "metadata": {},
   "source": [
    "***"
   ]
  },
  {
   "cell_type": "markdown",
   "metadata": {},
   "source": [
    "## If Statements\n",
    "\n",
    "If statements allow us to have conditions. For example, if the speed of the falling body goes above a critical speed $v_{\\rm crit}$, then perhaps a different equation applies.\n",
    "   "
   ]
  },
  {
   "cell_type": "markdown",
   "metadata": {},
   "source": [
    "### Example \n",
    "\n",
    "You are asked whether you have any symptoms of a fever or a continuous cough. Use Python `if` statements to print an appropriate message if the answer to this question is yes, no, or not sure."
   ]
  },
  {
   "cell_type": "markdown",
   "metadata": {},
   "source": [
    "### Solution\n",
    "\n",
    "Click below to see the solution."
   ]
  },
  {
   "cell_type": "code",
   "execution_count": 18,
   "metadata": {},
   "outputs": [
    {
     "name": "stdout",
     "output_type": "stream",
     "text": [
      "You are ill - You need to go home and rest in isolation.\n"
     ]
    }
   ],
   "source": [
    "your_symptoms = \"ill\"\n",
    "\n",
    "if your_symptoms == 'ill':\n",
    "    print('You are '+ your_symptoms + ' - You need to go home and rest in isolation.')\n",
    "elif your_symptoms == 'not ill':\n",
    "    print('You are '+ your_symptoms +' - OK, take care of yourself.')\n",
    "elif your_symptoms == 'not sure':\n",
    "    print('You are '+ your_symptoms + '- Best to be safe and go home and rest.')\n",
    "else: \n",
    "    print('I am sorry, I do not know what to say.')"
   ]
  },
  {
   "cell_type": "markdown",
   "metadata": {},
   "source": [
    "Note that here we are making use of strings `\" \"` instead of numbers."
   ]
  },
  {
   "cell_type": "markdown",
   "metadata": {},
   "source": [
    "### <font color=#4290C4>Example</font>\n",
    "\n",
    "Let's suppose we want to estimate the position of a body falling in free fall $y$ only when $t \\leq 100$s. At any other times, we set it to equal to zero (ie they hit the ground at 100s). We can do this using Python `if` statements."
   ]
  },
  {
   "cell_type": "markdown",
   "metadata": {},
   "source": [
    "### Solution\n",
    "\n",
    "Click below to see the solution."
   ]
  },
  {
   "cell_type": "code",
   "execution_count": 19,
   "metadata": {},
   "outputs": [
    {
     "name": "stdout",
     "output_type": "stream",
     "text": [
      "[1.35, 12326.85, 49177.35, 0.0, 0.0, 0.0, 0.0, 0.0, 0.0, 0.0, 0.0, 0.0, 0.0, 0.0, 0.0, 0.0, 0.0, 0.0, 0.0, 0.0]\n"
     ]
    }
   ],
   "source": [
    "y = []\n",
    "\n",
    "for i in range(0,len(t)):\n",
    "    if (t[i] <= 100):\n",
    "        y.append(0.5*g*t[i]**2+v_0*t[i]+y_0)\n",
    "    else:\n",
    "        y.append(0.)\n",
    "\n",
    "print(y)"
   ]
  },
  {
   "cell_type": "markdown",
   "metadata": {},
   "source": [
    "In these examples you will see that Python tests for equality uses the `==` to separate it from the `a = [1,2,3,4,5]` assignments of variables. We can also use `<`, `<=`, `>=` and `>` in Python code."
   ]
  },
  {
   "cell_type": "markdown",
   "metadata": {},
   "source": [
    "***\n",
    "\n",
    "## Arrays"
   ]
  },
  {
   "cell_type": "markdown",
   "metadata": {},
   "source": [
    "\n",
    "In science we often have data $x_0, x_1, x_2, ..., x_{n-1}$ and related $y_0, y_1, y_2, ..., y_{n-1}$.  We can use a Python list a for the $x$ values with elements a[0], a[1], a[3],..., a[n-1] and so on.  Python lists can contain any type of Python object, but sometimes we want one to contain numbers only. We can use arrays, which can be mutidimensional (eg 3x3 array instead of the 1d list). Python arrays are lists of objects of the same type and can make your code faster if you use them."
   ]
  },
  {
   "cell_type": "markdown",
   "metadata": {},
   "source": [
    "### <font color=#4290C4>Example</font>\n",
    "\n",
    "Convert the $y(t)$ values from above (which are currently in a Python list) into an array and check it has worked. "
   ]
  },
  {
   "cell_type": "markdown",
   "metadata": {},
   "source": [
    "### Solution\n",
    "\n",
    "Click below to see the solution."
   ]
  },
  {
   "cell_type": "code",
   "execution_count": 20,
   "metadata": {},
   "outputs": [
    {
     "name": "stdout",
     "output_type": "stream",
     "text": [
      "<class 'numpy.ndarray'>\n"
     ]
    }
   ],
   "source": [
    "y = np.array(y)\n",
    "\n",
    "print(type(y))"
   ]
  },
  {
   "cell_type": "markdown",
   "metadata": {},
   "source": [
    "### arange\n",
    "\n",
    "It works! We have used `numpy` to convert our list of values into an array that can be manipulated mathematically. \n",
    "\n",
    "As we used `range` earlier to make a list of time array of values, we can use `np.arange()` to make an array of time values. Examples are below:"
   ]
  },
  {
   "cell_type": "code",
   "execution_count": 21,
   "metadata": {},
   "outputs": [
    {
     "name": "stdout",
     "output_type": "stream",
     "text": [
      "[0 1 2 3 4 5 6 7 8 9]\n"
     ]
    }
   ],
   "source": [
    "a = np.arange(10) # make an array with 10 values (produces integers)\n",
    "\n",
    "print(a)"
   ]
  },
  {
   "cell_type": "code",
   "execution_count": 22,
   "metadata": {},
   "outputs": [
    {
     "name": "stdout",
     "output_type": "stream",
     "text": [
      "a= [0 1 2 3 4 5 6 7 8 9]\n",
      "b= [0.  0.5 1.  1.5 2.  2.5 3.  3.5 4.  4.5 5.  5.5 6.  6.5 7.  7.5 8.  8.5\n",
      " 9.  9.5]\n"
     ]
    }
   ],
   "source": [
    "a = np.arange(0,10,1) # now go from 0-10 in steps of 1 (produces integer)\n",
    "print('a=',a)\n",
    "\n",
    "\n",
    "b = np.arange(0,10,0.5)  #now go from 0-10 in steps of 0.5 (produces float)\n",
    "print('b=',b)"
   ]
  },
  {
   "cell_type": "markdown",
   "metadata": {},
   "source": [
    "How can we check the types of the numbers in a and b? Are they integers or floats? If we use `type(a)` this gives us the type of a (an array) so we need to call one of the numbers in the array and check it's type. We will do this using the 1st value in the array `a[0]`."
   ]
  },
  {
   "cell_type": "code",
   "execution_count": 23,
   "metadata": {},
   "outputs": [
    {
     "name": "stdout",
     "output_type": "stream",
     "text": [
      "The type of 1st number in a is <class 'numpy.int64'> -- is it an integer? Yes.\n",
      "The type of 1st number in b is <class 'numpy.float64'> -- is it a float? Yes.\n"
     ]
    }
   ],
   "source": [
    "# what is the type of the 1st number in a \n",
    "# what is the type of the 1st number in b \n",
    "print('The type of 1st number in a is', type(a[0]), '-- is it an integer? Yes.')\n",
    "print('The type of 1st number in b is', type(b[0]), '-- is it a float? Yes.')"
   ]
  },
  {
   "cell_type": "markdown",
   "metadata": {},
   "source": [
    "### Slicing data, getting subsets of data\n",
    "\n",
    "Some examples of slicing data samples where `a` is an array of data with length `len(a)` and has a starting data point `a[0]` and an end data point `a[len[a]-1]`.  We call the starting and ending data points we wish to pull out of the array `start` and `stop` in the examples below.\n",
    "\n",
    "`a[start:stop]`  ----  items start through stop-1\n",
    "\n",
    "`a[start:] ` ---- items start through the rest of the array\n",
    "\n",
    "`a[:stop]`   ---- items from the beginning through stop-1\n",
    "\n",
    "`a[:]  `    ---- a copy of the whole array\n",
    "\n",
    "`a[start:stop:step]` ---- can have a step size to pull out say every 100 points from the array"
   ]
  },
  {
   "cell_type": "markdown",
   "metadata": {},
   "source": [
    "### Tip\n",
    "\n",
    "You can use `numpy` to get the min, max and mean, standard deviation for your arrays using `np.mean(a)` etc."
   ]
  },
  {
   "cell_type": "markdown",
   "metadata": {},
   "source": [
    "***"
   ]
  },
  {
   "cell_type": "markdown",
   "metadata": {},
   "source": [
    "## Equations and functions"
   ]
  },
  {
   "cell_type": "markdown",
   "metadata": {},
   "source": [
    "If you have to use the same function a few times, or you like tidy code, it's easiest to define a function.  Here is an example function for $y=x^2+2$."
   ]
  },
  {
   "cell_type": "code",
   "execution_count": 24,
   "metadata": {},
   "outputs": [],
   "source": [
    "def my_equation(x):\n",
    "    return x**2+2"
   ]
  },
  {
   "cell_type": "code",
   "execution_count": 25,
   "metadata": {
    "scrolled": true
   },
   "outputs": [
    {
     "name": "stdout",
     "output_type": "stream",
     "text": [
      "13.559999999999999\n"
     ]
    }
   ],
   "source": [
    "a = 3.4 \n",
    "\n",
    "print(my_equation(a))"
   ]
  },
  {
   "cell_type": "code",
   "execution_count": 26,
   "metadata": {},
   "outputs": [
    {
     "name": "stdout",
     "output_type": "stream",
     "text": [
      "for a =  3.4s, the equation gives 13.56\n"
     ]
    }
   ],
   "source": [
    "print('for a =  3.4s, the equation gives {:.2f}'.format(my_equation(a))) # no units given in question."
   ]
  },
  {
   "cell_type": "markdown",
   "metadata": {},
   "source": [
    "### <font color=#4290C4>Example</font>\n",
    "\n",
    "Write a function for the position of a body falling in free fall for time $t=30$s. The initial speed and position are 3m/s and 1m."
   ]
  },
  {
   "cell_type": "markdown",
   "metadata": {},
   "source": [
    "### Solution\n",
    "\n",
    "Click below to see the solution."
   ]
  },
  {
   "cell_type": "code",
   "execution_count": 27,
   "metadata": {},
   "outputs": [
    {
     "name": "stdout",
     "output_type": "stream",
     "text": [
      "at t =  30s, the value of position is 4505.50 m\n"
     ]
    }
   ],
   "source": [
    "def position(time,accel,v_init,y_init):\n",
    "    value = 0.5*accel*time**2+v_init*time+y_init\n",
    "    return value\n",
    "\n",
    "t = 30.\n",
    "g = 9.81\n",
    "v_0 = 3.\n",
    "y_0 = 1.\n",
    "\n",
    "y = position(t,g,v_0,y_0)\n",
    "\n",
    "print('at t =  30s, the value of position is {:.2f} m'.format(y))"
   ]
  },
  {
   "cell_type": "markdown",
   "metadata": {},
   "source": [
    "### <font color=#4290C4>Example</font>\n",
    "\n",
    "Now get values of the position of a body falling in free fall for times from $t=0$s to $t=100s$ in steps of 10s. The initial speed and position are 3m/s and 1m."
   ]
  },
  {
   "cell_type": "markdown",
   "metadata": {},
   "source": [
    "### Solution\n",
    "\n",
    "Click below to see the solution."
   ]
  },
  {
   "cell_type": "code",
   "execution_count": 28,
   "metadata": {},
   "outputs": [
    {
     "name": "stdout",
     "output_type": "stream",
     "text": [
      "time in secs [ 0 10 20 30 40 50 60 70 80 90]\n",
      "position in m [1.00000e+00 5.21500e+02 2.02300e+03 4.50550e+03 7.96900e+03 1.24135e+04\n",
      " 1.78390e+04 2.42455e+04 3.16330e+04 4.00015e+04]\n"
     ]
    }
   ],
   "source": [
    "t = np.arange(0,100,10) # set up time values\n",
    "\n",
    "y = position(t,g,v_0,y_0)\n",
    "\n",
    "print('time in secs',t)\n",
    "print('position in m',y)"
   ]
  },
  {
   "cell_type": "markdown",
   "metadata": {},
   "source": [
    "Now we can use a for loop to print this out nicely so that we have $t$ and $y$ values in columns:"
   ]
  },
  {
   "cell_type": "code",
   "execution_count": 29,
   "metadata": {},
   "outputs": [
    {
     "name": "stdout",
     "output_type": "stream",
     "text": [
      "0 1.0\n",
      "10 521.5\n",
      "20 2023.0\n",
      "30 4505.5\n",
      "40 7969.0\n",
      "50 12413.5\n",
      "60 17839.0\n",
      "70 24245.5\n",
      "80 31633.0\n",
      "90 40001.5\n"
     ]
    }
   ],
   "source": [
    "for i in range(0,len(t)):\n",
    "    y = position(t[i],g,v_0,y_0)\n",
    "    print(t[i],y)"
   ]
  },
  {
   "cell_type": "markdown",
   "metadata": {},
   "source": [
    "***"
   ]
  },
  {
   "cell_type": "markdown",
   "metadata": {},
   "source": [
    "## Importing data files"
   ]
  },
  {
   "cell_type": "markdown",
   "metadata": {},
   "source": [
    "The data file you want to export must be in the same directory as the notebook or you will need to tell the notebook where to look for the file.  You can upload the file to Google Colab. In this example we will use the `numpy` package (shortened to `np`) and call the `numpy` `genfromtxt` tool to read the data file:\n",
    "\n",
    "`data = np.genfromtxt('file.dat')`\n",
    "\n",
    "Sometimes an error occurs with the `np.genfromtxt`. If this happens, you might want to skip the first row (often in data files there are words in the first row, known as the header information. To get around this you can use:\n",
    "\n",
    "`data = np.genfromtxt('file.dat',skip_header=1)`\n",
    "\n",
    "Sometimes you need to specify the delimiter in the data file (tab/space/comma), in this case it looks like:\n",
    "\n",
    "`data = np.genfromtxt('file.dat',delimiter=' ')`\n",
    "\n",
    "(Note you can also use `np.loadtxt`)."
   ]
  },
  {
   "cell_type": "markdown",
   "metadata": {},
   "source": [
    "### <font color=#4290C4>Example</font>\n",
    "\n",
    "Read in the data file DataAnalysis_testfile.txt and print it out.   The file at the following url: https://github.com/haleygomez/Data-Analysis-2024/blob/master/blended_exercises/Chapter1/DataAnalysis_testfile.txt."
   ]
  },
  {
   "cell_type": "markdown",
   "metadata": {},
   "source": [
    "### Solution\n",
    "\n",
    "Click below to see the solution."
   ]
  },
  {
   "cell_type": "markdown",
   "metadata": {},
   "source": [
    "First let's get the file. We can do this by downloading the file and then uploading it to colab (see Chapter 0 instructions)."
   ]
  },
  {
   "cell_type": "code",
   "execution_count": 30,
   "metadata": {},
   "outputs": [
    {
     "name": "stdout",
     "output_type": "stream",
     "text": [
      "[[ 0.223279 26.857211  1.6     ]\n",
      " [ 0.547843 20.331691  1.6     ]\n",
      " [ 0.56679  21.507016  1.6     ]\n",
      " [ 0.50147  15.098177  1.6     ]\n",
      " [ 0.944974 24.821554  1.6     ]\n",
      " [ 0.853123 21.838086  1.6     ]\n",
      " [ 0.759773 18.597575  1.6     ]\n",
      " [ 0.319978 22.060243  1.6     ]\n",
      " [ 0.907024 20.913449  1.6     ]\n",
      " [ 0.482762 20.570473  1.6     ]\n",
      " [ 0.599497 32.412242  1.6     ]\n",
      " [ 0.540597 21.428759  1.6     ]\n",
      " [ 0.892695 26.270349  1.6     ]]\n"
     ]
    }
   ],
   "source": [
    "import numpy as np\n",
    "\n",
    "data = np.genfromtxt(\"DataAnalysis_testfile.dat\")\n",
    "\n",
    "print(data)"
   ]
  },
  {
   "cell_type": "markdown",
   "metadata": {},
   "source": [
    "So we can see we have 3 columns of data.  Let's check if there are column headings:"
   ]
  },
  {
   "cell_type": "code",
   "execution_count": 31,
   "metadata": {},
   "outputs": [
    {
     "name": "stdout",
     "output_type": "stream",
     "text": [
      "('x', 'y', 'y_error')\n"
     ]
    }
   ],
   "source": [
    "data = np.genfromtxt(\"DataAnalysis_testfile.dat\",names=True)\n",
    "print(data.dtype.names) # this gives us our column names from the data file"
   ]
  },
  {
   "cell_type": "markdown",
   "metadata": {},
   "source": [
    "It looks like our data file contains $x$, $y$ data and error bars on the $y$ data."
   ]
  },
  {
   "cell_type": "markdown",
   "metadata": {},
   "source": [
    "### <font color=#4290C4>Example</font>\n",
    "\n",
    "Print out the first column, the second row, the first value in the first column and the number of datapoints."
   ]
  },
  {
   "cell_type": "markdown",
   "metadata": {},
   "source": [
    "### Solution\n",
    "\n",
    "Click below for the solution."
   ]
  },
  {
   "cell_type": "code",
   "execution_count": 32,
   "metadata": {},
   "outputs": [
    {
     "name": "stdout",
     "output_type": "stream",
     "text": [
      "all of the first column:\n",
      "[0.223279 0.547843 0.56679  0.50147  0.944974 0.853123 0.759773 0.319978\n",
      " 0.907024 0.482762 0.599497 0.540597 0.892695]\n",
      "\n",
      "all of the second row:\n",
      "(0.547843, 20.331691, 1.6)\n",
      "\n",
      "first value in first column:\n",
      "0.223279\n",
      "\n",
      "number of datapoints:\n",
      "13\n",
      "\n"
     ]
    }
   ],
   "source": [
    "# use the header names\n",
    "print('all of the first column:')\n",
    "print(data['x'])\n",
    "print()\n",
    "\n",
    "#Print second row\n",
    "print('all of the second row:')\n",
    "print(data[1]) # python starts at zero!\n",
    "print()\n",
    "\n",
    "\n",
    "# print first value in first column\n",
    "print('first value in first column:')\n",
    "print(data[0][0])\n",
    "print()\n",
    "\n",
    "\n",
    "# print length of data\n",
    "print('number of datapoints:')\n",
    "print(len(data))\n",
    "print()\n"
   ]
  },
  {
   "cell_type": "markdown",
   "metadata": {},
   "source": [
    "***"
   ]
  },
  {
   "cell_type": "markdown",
   "metadata": {},
   "source": [
    "## Plotting data"
   ]
  },
  {
   "cell_type": "markdown",
   "metadata": {},
   "source": [
    "The most commonly used library for plotting sciencitific data in Python is matplotlib which can be used by importing the `pylab` module.  There are a wealth of [online examples](https://matplotlib.org/stable/) for making plots, some publication level quality, and some more simple. In this course, we don't need to spend time on making publication level quality plots, but rather to try and make scientific data appear clear - ie labelled axes, large enough fontsize, legends.\n",
    "\n",
    "Plotting in Python is very intuitive, we basically use plot(x,y) where x and y are lists of numbers or arrays. You can add more data via using plot(x2,y2) to add more lines/datapoints on the same curve.  We can logscale our plots or our data points if we wish using `plt.loglog(x,y)` or `plt.semilogy(x,y)`. We can show scatter plots (data points) using scatter(x,y).  Histograms can be drawn using hist(x,bins) and so on."
   ]
  },
  {
   "cell_type": "markdown",
   "metadata": {},
   "source": [
    "### <font color=#4290C4>Example</font>\n",
    "\n",
    "Plot $y=sin(x)$ for $x$ ranging from 0 to $6\\pi$ in steps of $0.1\\pi$. "
   ]
  },
  {
   "cell_type": "markdown",
   "metadata": {},
   "source": [
    "### Solution\n",
    "\n",
    "Click below to see the solution."
   ]
  },
  {
   "cell_type": "code",
   "execution_count": 33,
   "metadata": {},
   "outputs": [
    {
     "data": {
      "text/plain": [
       "Text(0, 0.5, 'y')"
      ]
     },
     "execution_count": 33,
     "metadata": {},
     "output_type": "execute_result"
    },
    {
     "data": {
      "image/png": "[encoded data removed]",
      "text/plain": [
       "<Figure size 640x480 with 1 Axes>"
      ]
     },
     "metadata": {},
     "output_type": "display_data"
    }
   ],
   "source": [
    "x = np.arange(0,6*np.pi,0.1*np.pi)\n",
    "plt.plot(x,np.sin(x))\n",
    "plt.xlabel('x')\n",
    "plt.ylabel('y')"
   ]
  },
  {
   "cell_type": "markdown",
   "metadata": {},
   "source": [
    "### <font color=#4290C4>Example</font>\n",
    "\n",
    "- Plot $y=sin(x)$ for $x$ ranging from 0 to $6\\pi$ in steps of $0.1\\pi$.  \n",
    "    - Add a curve to show $y=cos(x)$. \n",
    "    - Make the linewidths width 2\n",
    "    - Make the $cos(x)$ curve have an opacity of 0.6.\n",
    "    - Set the y limits to be (-1.5,1.5) and x limits of (0,5).\n",
    "    - Add a title.\n",
    "    - Set the fontsize of the title and labels to equal size 16.\n",
    "    - Add a legend with labels for the curves."
   ]
  },
  {
   "cell_type": "markdown",
   "metadata": {},
   "source": [
    "### Solution\n",
    "\n",
    "Click below to see the solution."
   ]
  },
  {
   "cell_type": "code",
   "execution_count": 34,
   "metadata": {
    "scrolled": false
   },
   "outputs": [
    {
     "data": {
      "text/plain": [
       "Text(0.5, 1.0, 'The variation of sin(x) and cos(x)')"
      ]
     },
     "execution_count": 34,
     "metadata": {},
     "output_type": "execute_result"
    },
    {
     "data": {
      "image/png": "[encoded data removed]",
      "text/plain": [
       "<Figure size 640x480 with 1 Axes>"
      ]
     },
     "metadata": {},
     "output_type": "display_data"
    }
   ],
   "source": [
    "plt.plot(x,np.sin(x),label='sin(x)',lw=2) #lw = thickness of line, label = the name of curve fn or datafile\n",
    "plt.plot(x,np.cos(x),label='cos(x)',lw=2,c='magenta',alpha=0.6) # c=colour,alpha=transparency\n",
    "plt.xlabel('x',fontsize=16)\n",
    "plt.ylabel('y(x)',fontsize=16)\n",
    "plt.ylim(-1.5,1.5)\n",
    "plt.xlim(0,5)\n",
    "plt.legend(loc='upper right')  # makes the legend\n",
    "plt.title('The variation of sin(x) and cos(x)',fontsize=16) # add a title"
   ]
  },
  {
   "cell_type": "markdown",
   "metadata": {},
   "source": [
    "### <font color=#4290C4>Example</font>\n",
    "\n",
    "Plot $y={\\rm exp}\\left(\\dfrac{-x}{5}\\right)$"
   ]
  },
  {
   "cell_type": "markdown",
   "metadata": {},
   "source": [
    "### Solution\n",
    "\n",
    "Click below to see the solution."
   ]
  },
  {
   "cell_type": "code",
   "execution_count": 35,
   "metadata": {},
   "outputs": [
    {
     "data": {
      "text/plain": [
       "Text(0, 0.5, 'y (units)')"
      ]
     },
     "execution_count": 35,
     "metadata": {},
     "output_type": "execute_result"
    },
    {
     "data": {
      "image/png": "[encoded data removed]",
      "text/plain": [
       "<Figure size 640x480 with 1 Axes>"
      ]
     },
     "metadata": {},
     "output_type": "display_data"
    }
   ],
   "source": [
    "import numpy as np\n",
    "import pylab as plt # for plotting\n",
    "# the line below makes the plot appear in the jupyter notebook\n",
    "%matplotlib inline  \n",
    "\n",
    "# define function to calculate y\n",
    "def func(x):\n",
    "    return np.exp(-x / 5.0)\n",
    "\n",
    "t = np.arange(0.01, 20.0, 0.01)\n",
    "plt.plot(t, func(t),c='magenta',lw=2)\n",
    "plt.xlabel('x (units)',fontsize=16)\n",
    "plt.ylabel('y (units)',fontsize=16)\n"
   ]
  },
  {
   "cell_type": "markdown",
   "metadata": {},
   "source": [
    "### <font color=#4290C4>Example</font>\n",
    "\n",
    "Plot $y={\\rm exp}\\left(\\dfrac{-x}{5}\\right)$ on different logscales."
   ]
  },
  {
   "cell_type": "markdown",
   "metadata": {},
   "source": [
    "### Solution\n",
    "\n",
    "Click below to see the solution."
   ]
  },
  {
   "cell_type": "code",
   "execution_count": 38,
   "metadata": {},
   "outputs": [
    {
     "data": {
      "text/plain": [
       "<matplotlib.legend.Legend at 0x7facd1757b50>"
      ]
     },
     "execution_count": 38,
     "metadata": {},
     "output_type": "execute_result"
    },
    {
     "data": {
      "image/png": "[encoded data removed]",
      "text/plain": [
       "<Figure size 640x480 with 4 Axes>"
      ]
     },
     "metadata": {},
     "output_type": "display_data"
    }
   ],
   "source": [
    "plt.subplot(221) # makes a row=2 x column=2 grid of plots, 3rd number is index of each subplot 1-4\n",
    "plt.plot(t, func(t),c='magenta',lw=2,label='linear scale')\n",
    "plt.legend(loc='upper right')\n",
    "\n",
    "plt.subplot(222)\n",
    "plt.semilogy(t, func(t),label='semilog y')\n",
    "plt.legend(loc='lower left')\n",
    "\n",
    "plt.subplot(223)\n",
    "plt.semilogx(t, func(t),label = 'semilog x')\n",
    "plt.legend(loc='lower left')\n",
    "\n",
    "plt.subplot(224)\n",
    "plt.loglog(t,func(t),label='log base 2')\n",
    "plt.legend(loc='lower left')"
   ]
  },
  {
   "cell_type": "markdown",
   "metadata": {},
   "source": [
    "### <font color=#4290C4>Example</font>\n",
    "\n",
    "Plot the data in the data file DataAnalysis_testfile.dat."
   ]
  },
  {
   "cell_type": "markdown",
   "metadata": {},
   "source": [
    "### Solution\n",
    "\n",
    "Click below to see the solution."
   ]
  },
  {
   "cell_type": "code",
   "execution_count": 40,
   "metadata": {},
   "outputs": [
    {
     "data": {
      "text/plain": [
       "Text(0.5, 1.0, 'Comparison of data $x$ and $y$ from data.dat')"
      ]
     },
     "execution_count": 40,
     "metadata": {},
     "output_type": "execute_result"
    },
    {
     "data": {
      "image/png": "[encoded data removed]",
      "text/plain": [
       "<Figure size 640x480 with 1 Axes>"
      ]
     },
     "metadata": {},
     "output_type": "display_data"
    }
   ],
   "source": [
    "data = np.genfromtxt('DataAnalysis_testfile.dat',names=True)\n",
    "plt.scatter(data['x'],data['y'])\n",
    "plt.xlabel('x',fontsize=16)\n",
    "plt.ylabel('y',fontsize=16)\n",
    "plt.title('Comparison of data $x$ and $y$ from data.dat')"
   ]
  },
  {
   "cell_type": "markdown",
   "metadata": {},
   "source": [
    "We could also plot the above if we don't have any names for columns, see below:"
   ]
  },
  {
   "cell_type": "code",
   "execution_count": 46,
   "metadata": {},
   "outputs": [
    {
     "data": {
      "text/plain": [
       "<matplotlib.collections.PathCollection at 0x7facd1b22370>"
      ]
     },
     "execution_count": 46,
     "metadata": {},
     "output_type": "execute_result"
    },
    {
     "data": {
      "image/png": "[encoded data removed]",
      "text/plain": [
       "<Figure size 640x480 with 1 Axes>"
      ]
     },
     "metadata": {},
     "output_type": "display_data"
    }
   ],
   "source": [
    "data = np.genfromtxt('DataAnalysis_testfile.dat')\n",
    "plt.scatter(data[:,0],data[:,1])"
   ]
  },
  {
   "cell_type": "markdown",
   "metadata": {},
   "source": [
    "### Errorbars"
   ]
  },
  {
   "cell_type": "markdown",
   "metadata": {},
   "source": [
    "Often in physics, we have errors in our measurements. These can be easily added via the `errorbar` option in `matplotlib`."
   ]
  },
  {
   "cell_type": "code",
   "execution_count": 48,
   "metadata": {},
   "outputs": [
    {
     "data": {
      "text/plain": [
       "Text(0.5, 1.0, 'Comparison of data $x$ and $y$ from data.dat with errorbars added')"
      ]
     },
     "execution_count": 48,
     "metadata": {},
     "output_type": "execute_result"
    },
    {
     "data": {
      "image/png": "[encoded data removed]",
      "text/plain": [
       "<Figure size 640x480 with 1 Axes>"
      ]
     },
     "metadata": {},
     "output_type": "display_data"
    }
   ],
   "source": [
    "data = np.genfromtxt('DataAnalysis_testfile.dat',names=True)\n",
    "plt.errorbar(data['x'],data['y'],yerr=data['y_error'],fmt='o')\n",
    "plt.xlabel('x',fontsize=16)\n",
    "plt.ylabel('y',fontsize=16)\n",
    "plt.title('Comparison of data $x$ and $y$ from data.dat with errorbars added',fontsize=16)"
   ]
  },
  {
   "cell_type": "markdown",
   "metadata": {},
   "source": [
    "### <div class=\"tip\">Tip</div>\n",
    "\n",
    "All of the plotting options that can be used in matplotlib can be found [here](https://matplotlib.org/3.3.0/api/pyplot_summary.html)."
   ]
  },
  {
   "cell_type": "markdown",
   "metadata": {},
   "source": [
    "***"
   ]
  },
  {
   "cell_type": "markdown",
   "metadata": {},
   "source": [
    "# <div class=\"tip\">General Tips</div>\n",
    "\n",
    "* Make sure your code works in a new clean environment. In Colab: Runtime->restart Runtime, in Anaconda's Jupyter: Kernel->Restart.\n",
    "\n",
    "* Dont forget to save your notebook regularly.\n",
    "\n",
    "* Use spaces and empty lines to make program clearer.\n",
    "\n",
    "* Add comments to your code so you know why you're doing something.\n",
    "\n",
    "* Use sensible names for variables and functions, choose names you would be able to understand if you came back to your code a year later.\n",
    "\n",
    "* With equations and calculations, use same variables as your equations in the notes/lectures so you will be able to directly compare.  Do all of the calculation in the python cells, don't do part of it in your head/in your notes.\n",
    "\n",
    "* Always have a markdown box before and after code cells explaining what you're going to do, and discussing the results.\n",
    "\n",
    "* Don't forget to compile your cells, and run all before submitting assessed work.\n",
    "\n",
    "* Don't be afraid to google for bits of code - particularly make use of the [SciPy](https://docs.scipy.org/) and [Python](https://www.python.org/doc/) documents.\n",
    "\n",
    "Now you are ready to tackle the **Chapter 1 quiz** on Learning Central and the [Chapter1_yourturn notebook](https://github.com/haleygomez/Data-Analysis-2024/blob/master/blended_exercises/Chapter1/Chapter1_yourturn.ipynb)."
   ]
  },
  {
   "cell_type": "markdown",
   "metadata": {},
   "source": [
    "***"
   ]
  }
 ],
 "metadata": {
  "kernelspec": {
   "display_name": "Python 3 (ipykernel)",
   "language": "python",
   "name": "python3"
  },
  "language_info": {
   "codemirror_mode": {
    "name": "ipython",
    "version": 3
   },
   "file_extension": ".py",
   "mimetype": "text/x-python",
   "name": "python",
   "nbconvert_exporter": "python",
   "pygments_lexer": "ipython3",
   "version": "3.9.13"
  }
 },
 "nbformat": 4,
 "nbformat_minor": 2
}
